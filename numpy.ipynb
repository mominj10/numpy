{
 "cells": [
  {
   "cell_type": "code",
   "execution_count": 39,
   "id": "85e5ab09",
   "metadata": {},
   "outputs": [],
   "source": [
    "import numpy as np\n",
    "arr=np.array([5,10,15,20,25])"
   ]
  },
  {
   "cell_type": "code",
   "execution_count": 40,
   "id": "22465c3b",
   "metadata": {},
   "outputs": [
    {
     "data": {
      "text/plain": [
       "array([ 5, 10, 15, 20, 25])"
      ]
     },
     "execution_count": 40,
     "metadata": {},
     "output_type": "execute_result"
    }
   ],
   "source": [
    "arr"
   ]
  },
  {
   "cell_type": "code",
   "execution_count": 32,
   "id": "95f94c30",
   "metadata": {},
   "outputs": [
    {
     "data": {
      "text/plain": [
       "2"
      ]
     },
     "execution_count": 32,
     "metadata": {},
     "output_type": "execute_result"
    }
   ],
   "source": [
    "arr.ndim"
   ]
  },
  {
   "cell_type": "code",
   "execution_count": 45,
   "id": "f8668632",
   "metadata": {},
   "outputs": [
    {
     "data": {
      "text/plain": [
       "array([10, 20])"
      ]
     },
     "execution_count": 45,
     "metadata": {},
     "output_type": "execute_result"
    }
   ],
   "source": [
    "arr[1:4:2]"
   ]
  },
  {
   "cell_type": "code",
   "execution_count": 53,
   "id": "6a54672d",
   "metadata": {},
   "outputs": [
    {
     "data": {
      "text/plain": [
       "array([[1, 2, 3],\n",
       "       [4, 5, 6],\n",
       "       [7, 8, 9]])"
      ]
     },
     "execution_count": 53,
     "metadata": {},
     "output_type": "execute_result"
    }
   ],
   "source": [
    "na=np.array([[1,2,3],[4,5,6],[7,8,9,]])\n",
    "na"
   ]
  },
  {
   "cell_type": "code",
   "execution_count": 56,
   "id": "19e3e592",
   "metadata": {},
   "outputs": [
    {
     "data": {
      "text/plain": [
       "9"
      ]
     },
     "execution_count": 56,
     "metadata": {},
     "output_type": "execute_result"
    }
   ],
   "source": [
    "na[2][2]"
   ]
  },
  {
   "cell_type": "code",
   "execution_count": 57,
   "id": "b45d5b10",
   "metadata": {},
   "outputs": [
    {
     "data": {
      "text/plain": [
       "6"
      ]
     },
     "execution_count": 57,
     "metadata": {},
     "output_type": "execute_result"
    }
   ],
   "source": [
    "na[1,2]"
   ]
  },
  {
   "cell_type": "code",
   "execution_count": 68,
   "id": "b930e839",
   "metadata": {},
   "outputs": [
    {
     "data": {
      "text/plain": [
       "array([[2, 3],\n",
       "       [5, 6]])"
      ]
     },
     "execution_count": 68,
     "metadata": {},
     "output_type": "execute_result"
    }
   ],
   "source": [
    "\n",
    "na[:2,1:]"
   ]
  },
  {
   "cell_type": "code",
   "execution_count": 70,
   "id": "e406368e",
   "metadata": {},
   "outputs": [],
   "source": [
    "new=np.random.seed(123)"
   ]
  },
  {
   "cell_type": "code",
   "execution_count": 83,
   "id": "aad6772f",
   "metadata": {},
   "outputs": [
    {
     "data": {
      "text/plain": [
       "array([[89, 88, 70, 98, 51],\n",
       "       [ 3, 19, 47, 46, 58],\n",
       "       [36, 19, 92, 47, 55],\n",
       "       [74, 82, 63, 68, 12],\n",
       "       [27, 93, 76, 11,  4]])"
      ]
     },
     "execution_count": 83,
     "metadata": {},
     "output_type": "execute_result"
    }
   ],
   "source": [
    "new=np.random.randint(1,101,25).reshape(5,5)\n",
    "new\n"
   ]
  },
  {
   "cell_type": "code",
   "execution_count": 88,
   "id": "dcb84fca",
   "metadata": {},
   "outputs": [
    {
     "data": {
      "text/plain": [
       "array([[19, 47, 46]])"
      ]
     },
     "execution_count": 88,
     "metadata": {},
     "output_type": "execute_result"
    }
   ],
   "source": [
    "new[1:2,1:4]"
   ]
  },
  {
   "cell_type": "code",
   "execution_count": 90,
   "id": "9b08041d",
   "metadata": {},
   "outputs": [
    {
     "data": {
      "text/plain": [
       "array([[82, 63, 68],\n",
       "       [93, 76, 11]])"
      ]
     },
     "execution_count": 90,
     "metadata": {},
     "output_type": "execute_result"
    }
   ],
   "source": [
    "new[3:,1:4]"
   ]
  },
  {
   "cell_type": "code",
   "execution_count": 100,
   "id": "aa337339",
   "metadata": {},
   "outputs": [
    {
     "data": {
      "text/plain": [
       "array([1, 2, 3, 4, 5])"
      ]
     },
     "execution_count": 100,
     "metadata": {},
     "output_type": "execute_result"
    }
   ],
   "source": [
    "ar=np.array([1,2,3,4,5])\n",
    "var=ar.view()\n",
    "var\n"
   ]
  },
  {
   "cell_type": "code",
   "execution_count": 101,
   "id": "4e97825f",
   "metadata": {},
   "outputs": [
    {
     "data": {
      "text/plain": [
       "array([22,  2,  3,  4,  5])"
      ]
     },
     "execution_count": 101,
     "metadata": {},
     "output_type": "execute_result"
    }
   ],
   "source": [
    "var[0]=22\n",
    "var"
   ]
  },
  {
   "cell_type": "code",
   "execution_count": 102,
   "id": "57faab2d",
   "metadata": {},
   "outputs": [
    {
     "data": {
      "text/plain": [
       "array([22,  2,  3,  4,  5])"
      ]
     },
     "execution_count": 102,
     "metadata": {},
     "output_type": "execute_result"
    }
   ],
   "source": [
    "ar"
   ]
  },
  {
   "cell_type": "code",
   "execution_count": 103,
   "id": "b15e702a",
   "metadata": {},
   "outputs": [
    {
     "data": {
      "text/plain": [
       "array([ 1,  2,  3,  4,  5,  6,  7,  8,  9, 10, 11, 12, 13, 14, 15, 16, 17,\n",
       "       18, 19, 20, 21, 22, 23, 24, 25, 26, 27, 28, 29, 30, 31, 32, 33, 34,\n",
       "       35, 36, 37, 38, 39, 40, 41, 42, 43, 44, 45, 46, 47, 48, 49, 50, 51,\n",
       "       52, 53, 54, 55, 56, 57, 58, 59, 60, 61, 62, 63, 64, 65, 66, 67, 68,\n",
       "       69, 70, 71, 72, 73, 74, 75, 76, 77, 78, 79, 80, 81, 82, 83, 84, 85,\n",
       "       86, 87, 88, 89, 90, 91, 92, 93, 94, 95, 96, 97, 98, 99])"
      ]
     },
     "execution_count": 103,
     "metadata": {},
     "output_type": "execute_result"
    }
   ],
   "source": [
    "ass=np.arange(1,100)\n",
    "ass"
   ]
  },
  {
   "cell_type": "code",
   "execution_count": 105,
   "id": "9700a490",
   "metadata": {},
   "outputs": [
    {
     "data": {
      "text/plain": [
       "array([ 2,  4,  6,  8, 10, 12, 14, 16, 18, 20, 22, 24, 26, 28, 30, 32, 34,\n",
       "       36, 38, 40, 42, 44, 46, 48, 50, 52, 54, 56, 58, 60, 62, 64, 66, 68,\n",
       "       70, 72, 74, 76, 78, 80, 82, 84, 86, 88, 90, 92, 94, 96, 98])"
      ]
     },
     "execution_count": 105,
     "metadata": {},
     "output_type": "execute_result"
    }
   ],
   "source": [
    "ass[ass%2==0]"
   ]
  },
  {
   "cell_type": "code",
   "execution_count": 110,
   "id": "25c1d1a7",
   "metadata": {},
   "outputs": [
    {
     "data": {
      "text/plain": [
       "array([[ 1,  2,  3,  4,  5,  6,  7,  8,  9, 10, 11, 12, 13, 14, 15, 16,\n",
       "        17, 18, 19, 20, 21, 22, 23, 24, 25, 26, 27, 28, 29, 30, 31, 32,\n",
       "        33],\n",
       "       [34, 35, 36, 37, 38, 39, 40, 41, 42, 43, 44, 45, 46, 47, 48, 49,\n",
       "        50, 51, 52, 53, 54, 55, 56, 57, 58, 59, 60, 61, 62, 63, 64, 65,\n",
       "        66],\n",
       "       [67, 68, 69, 70, 71, 72, 73, 74, 75, 76, 77, 78, 79, 80, 81, 82,\n",
       "        83, 84, 85, 86, 87, 88, 89, 90, 91, 92, 93, 94, 95, 96, 97, 98,\n",
       "        99]])"
      ]
     },
     "execution_count": 110,
     "metadata": {},
     "output_type": "execute_result"
    }
   ],
   "source": [
    "ass.reshape(-1,33)"
   ]
  },
  {
   "cell_type": "code",
   "execution_count": 112,
   "id": "aa671d90",
   "metadata": {},
   "outputs": [
    {
     "data": {
      "text/plain": [
       "array([ 1,  2,  3,  4,  5,  6,  7,  8,  9, 10, 11, 12, 13, 14, 15, 16, 17,\n",
       "       18, 19])"
      ]
     },
     "execution_count": 112,
     "metadata": {},
     "output_type": "execute_result"
    }
   ],
   "source": [
    "m2=np.arange(1,20)\n",
    "m2"
   ]
  },
  {
   "cell_type": "code",
   "execution_count": 115,
   "id": "2269488c",
   "metadata": {},
   "outputs": [
    {
     "name": "stdout",
     "output_type": "stream",
     "text": [
      "odd 1\n",
      "even 2\n",
      "odd 3\n",
      "even 4\n",
      "odd 5\n",
      "even 6\n",
      "odd 7\n",
      "even 8\n",
      "odd 9\n",
      "even 10\n",
      "odd 11\n",
      "even 12\n",
      "odd 13\n",
      "even 14\n",
      "odd 15\n",
      "even 16\n",
      "odd 17\n",
      "even 18\n",
      "odd 19\n"
     ]
    }
   ],
   "source": [
    "for i in m2:\n",
    "    if i%2==0:\n",
    "        print('even',i)\n",
    "    else:\n",
    "        print('odd',i)"
   ]
  },
  {
   "cell_type": "code",
   "execution_count": 116,
   "id": "a2f22bdc",
   "metadata": {},
   "outputs": [],
   "source": [
    "np.random.seed(123)"
   ]
  },
  {
   "cell_type": "code",
   "execution_count": 117,
   "id": "9bf58184",
   "metadata": {},
   "outputs": [],
   "source": [
    "m=np.random.randint(1,11,9).reshape(3,3)"
   ]
  },
  {
   "cell_type": "code",
   "execution_count": 118,
   "id": "7f219b43",
   "metadata": {},
   "outputs": [
    {
     "data": {
      "text/plain": [
       "array([[ 3,  3,  7],\n",
       "       [ 2,  4, 10],\n",
       "       [ 7,  2,  1]])"
      ]
     },
     "execution_count": 118,
     "metadata": {},
     "output_type": "execute_result"
    }
   ],
   "source": [
    "m"
   ]
  },
  {
   "cell_type": "code",
   "execution_count": 122,
   "id": "492dbc3e",
   "metadata": {},
   "outputs": [
    {
     "data": {
      "text/plain": [
       "39"
      ]
     },
     "execution_count": 122,
     "metadata": {},
     "output_type": "execute_result"
    }
   ],
   "source": [
    "m.sum()"
   ]
  },
  {
   "cell_type": "code",
   "execution_count": 123,
   "id": "f022d9de",
   "metadata": {},
   "outputs": [
    {
     "data": {
      "text/plain": [
       "1"
      ]
     },
     "execution_count": 123,
     "metadata": {},
     "output_type": "execute_result"
    }
   ],
   "source": [
    "m.min()"
   ]
  },
  {
   "cell_type": "code",
   "execution_count": 124,
   "id": "6b06697e",
   "metadata": {},
   "outputs": [
    {
     "data": {
      "text/plain": [
       "10"
      ]
     },
     "execution_count": 124,
     "metadata": {},
     "output_type": "execute_result"
    }
   ],
   "source": [
    "m.max()"
   ]
  },
  {
   "cell_type": "code",
   "execution_count": 125,
   "id": "b0de7a83",
   "metadata": {},
   "outputs": [
    {
     "ename": "TypeError",
     "evalue": "cannot unpack non-iterable int object",
     "output_type": "error",
     "traceback": [
      "\u001b[1;31m---------------------------------------------------------------------------\u001b[0m",
      "\u001b[1;31mTypeError\u001b[0m                                 Traceback (most recent call last)",
      "Cell \u001b[1;32mIn[125], line 1\u001b[0m\n\u001b[1;32m----> 1\u001b[0m m,axis\u001b[38;5;241m=\u001b[39m\u001b[38;5;241m1\u001b[39m\n",
      "\u001b[1;31mTypeError\u001b[0m: cannot unpack non-iterable int object"
     ]
    }
   ],
   "source": [
    "m,axis=1"
   ]
  },
  {
   "cell_type": "code",
   "execution_count": 126,
   "id": "522b3329",
   "metadata": {},
   "outputs": [
    {
     "data": {
      "text/plain": [
       "array([ 7,  4, 10])"
      ]
     },
     "execution_count": 126,
     "metadata": {},
     "output_type": "execute_result"
    }
   ],
   "source": [
    "np.max(m,axis=0)"
   ]
  },
  {
   "cell_type": "code",
   "execution_count": 127,
   "id": "29c2892f",
   "metadata": {},
   "outputs": [],
   "source": [
    "import numpy as np"
   ]
  },
  {
   "cell_type": "code",
   "execution_count": 128,
   "id": "35fa2200",
   "metadata": {},
   "outputs": [],
   "source": [
    "arr=np.array([1,2,3])"
   ]
  },
  {
   "cell_type": "code",
   "execution_count": 129,
   "id": "0a7d4ba3",
   "metadata": {},
   "outputs": [
    {
     "data": {
      "text/plain": [
       "array([1, 2, 3])"
      ]
     },
     "execution_count": 129,
     "metadata": {},
     "output_type": "execute_result"
    }
   ],
   "source": [
    "arr"
   ]
  },
  {
   "cell_type": "code",
   "execution_count": 132,
   "id": "8de593b7",
   "metadata": {},
   "outputs": [
    {
     "data": {
      "text/plain": [
       "array([ 1,  2,  3,  4,  5,  6,  7,  8,  9, 10, 11, 12, 13, 14, 15, 16, 17,\n",
       "       18, 19, 20])"
      ]
     },
     "execution_count": 132,
     "metadata": {},
     "output_type": "execute_result"
    }
   ],
   "source": [
    "arra=np.arange(1,21)\n",
    "arra"
   ]
  },
  {
   "cell_type": "code",
   "execution_count": 134,
   "id": "3e877c72",
   "metadata": {},
   "outputs": [
    {
     "ename": "AttributeError",
     "evalue": "module 'numpy' has no attribute 'five'",
     "output_type": "error",
     "traceback": [
      "\u001b[1;31m---------------------------------------------------------------------------\u001b[0m",
      "\u001b[1;31mAttributeError\u001b[0m                            Traceback (most recent call last)",
      "Cell \u001b[1;32mIn[134], line 1\u001b[0m\n\u001b[1;32m----> 1\u001b[0m np\u001b[38;5;241m.\u001b[39mfive(\u001b[38;5;241m20\u001b[39m)\n",
      "File \u001b[1;32m~\\anaconda3\\Lib\\site-packages\\numpy\\__init__.py:320\u001b[0m, in \u001b[0;36m__getattr__\u001b[1;34m(attr)\u001b[0m\n\u001b[0;32m    317\u001b[0m     \u001b[38;5;28;01mfrom\u001b[39;00m \u001b[38;5;21;01m.\u001b[39;00m\u001b[38;5;21;01mtesting\u001b[39;00m \u001b[38;5;28;01mimport\u001b[39;00m Tester\n\u001b[0;32m    318\u001b[0m     \u001b[38;5;28;01mreturn\u001b[39;00m Tester\n\u001b[1;32m--> 320\u001b[0m \u001b[38;5;28;01mraise\u001b[39;00m \u001b[38;5;167;01mAttributeError\u001b[39;00m(\u001b[38;5;124m\"\u001b[39m\u001b[38;5;124mmodule \u001b[39m\u001b[38;5;132;01m{!r}\u001b[39;00m\u001b[38;5;124m has no attribute \u001b[39m\u001b[38;5;124m\"\u001b[39m\n\u001b[0;32m    321\u001b[0m                      \u001b[38;5;124m\"\u001b[39m\u001b[38;5;132;01m{!r}\u001b[39;00m\u001b[38;5;124m\"\u001b[39m\u001b[38;5;241m.\u001b[39mformat(\u001b[38;5;18m__name__\u001b[39m, attr))\n",
      "\u001b[1;31mAttributeError\u001b[0m: module 'numpy' has no attribute 'five'"
     ]
    }
   ],
   "source": [
    "np.five(20)"
   ]
  },
  {
   "cell_type": "code",
   "execution_count": 135,
   "id": "ae87ced8",
   "metadata": {},
   "outputs": [
    {
     "data": {
      "text/plain": [
       "array([5, 5, 5, 5, 5, 5, 5, 5, 5, 5])"
      ]
     },
     "execution_count": 135,
     "metadata": {},
     "output_type": "execute_result"
    }
   ],
   "source": [
    "np.full(10,5)"
   ]
  },
  {
   "cell_type": "code",
   "execution_count": 139,
   "id": "76662cce",
   "metadata": {},
   "outputs": [],
   "source": [
    "da=np.arange(1,10).reshape(-1,3)"
   ]
  },
  {
   "cell_type": "code",
   "execution_count": 140,
   "id": "0f1618b6",
   "metadata": {},
   "outputs": [
    {
     "data": {
      "text/plain": [
       "array([[1, 2, 3],\n",
       "       [4, 5, 6],\n",
       "       [7, 8, 9]])"
      ]
     },
     "execution_count": 140,
     "metadata": {},
     "output_type": "execute_result"
    }
   ],
   "source": [
    "da\n"
   ]
  },
  {
   "cell_type": "code",
   "execution_count": 167,
   "id": "80004da7",
   "metadata": {},
   "outputs": [
    {
     "ename": "ValueError",
     "evalue": "cannot reshape array of size 25 into shape (2,newaxis)",
     "output_type": "error",
     "traceback": [
      "\u001b[1;31m---------------------------------------------------------------------------\u001b[0m",
      "\u001b[1;31mValueError\u001b[0m                                Traceback (most recent call last)",
      "Cell \u001b[1;32mIn[167], line 1\u001b[0m\n\u001b[1;32m----> 1\u001b[0m rn\u001b[38;5;241m=\u001b[39mnp\u001b[38;5;241m.\u001b[39mrandom\u001b[38;5;241m.\u001b[39mrand(\u001b[38;5;241m1\u001b[39m,\u001b[38;5;241m25\u001b[39m)\u001b[38;5;241m.\u001b[39mreshape(\u001b[38;5;241m2\u001b[39m,\u001b[38;5;241m-\u001b[39m\u001b[38;5;241m1\u001b[39m)\n",
      "\u001b[1;31mValueError\u001b[0m: cannot reshape array of size 25 into shape (2,newaxis)"
     ]
    }
   ],
   "source": [
    "\n",
    "rn=np.random.rand(1,25).reshape(2,-1)"
   ]
  },
  {
   "cell_type": "code",
   "execution_count": 163,
   "id": "cae40e4b",
   "metadata": {},
   "outputs": [
    {
     "data": {
      "text/plain": [
       "array([[0.85497282, 0.7113918 , 0.39294441, 0.23130148, 0.38017471,\n",
       "        0.5491621 , 0.55671906, 0.00413464, 0.63802252, 0.05764801,\n",
       "        0.04302691, 0.87505113, 0.2925876 , 0.76276766, 0.36786526,\n",
       "        0.87350227, 0.02942373, 0.55204372, 0.2402475 , 0.88480501,\n",
       "        0.46023842, 0.19317033, 0.2936925 , 0.81792751, 0.55948738],\n",
       "       [0.67792545, 0.80912668, 0.86857215, 0.41799246, 0.05893816,\n",
       "        0.478459  , 0.52115943, 0.58063202, 0.309199  , 0.91988263,\n",
       "        0.6553475 , 0.34924138, 0.54109404, 0.4490534 , 0.28232096,\n",
       "        0.29587653, 0.56348098, 0.71519128, 0.51761868, 0.35204183,\n",
       "        0.63277886, 0.87311902, 0.16788844, 0.98747832, 0.34941493],\n",
       "       [0.82620513, 0.06546154, 0.00535329, 0.88694465, 0.91131813,\n",
       "        0.19940777, 0.02755138, 0.81733492, 0.24182762, 0.05608301,\n",
       "        0.06756083, 0.47387186, 0.50942926, 0.41679514, 0.25584293,\n",
       "        0.38151211, 0.80738444, 0.81103914, 0.68618686, 0.99261363,\n",
       "        0.40518518, 0.19017372, 0.48817449, 0.50236965, 0.40335482],\n",
       "       [0.18109542, 0.0480298 , 0.60469135, 0.26591121, 0.881347  ,\n",
       "        0.58404612, 0.47746048, 0.17151502, 0.05662   , 0.15703523,\n",
       "        0.3386175 , 0.44064297, 0.68384312, 0.20587172, 0.6164337 ,\n",
       "        0.92447161, 0.07962825, 0.48539683, 0.69856363, 0.08156848,\n",
       "        0.86910236, 0.43310568, 0.49433006, 0.49574047, 0.37072208],\n",
       "       [0.92212866, 0.84127822, 0.65552592, 0.46268505, 0.56501131,\n",
       "        0.42391551, 0.28821195, 0.26398072, 0.69073823, 0.83283653,\n",
       "        0.59239158, 0.46652258, 0.67365999, 0.39147935, 0.70210437,\n",
       "        0.96569764, 0.09050988, 0.05812514, 0.58801742, 0.75117376,\n",
       "        0.51131739, 0.92050119, 0.3039641 , 0.49300273, 0.97936034]])"
      ]
     },
     "execution_count": 163,
     "metadata": {},
     "output_type": "execute_result"
    }
   ],
   "source": [
    "rn\n"
   ]
  },
  {
   "cell_type": "code",
   "execution_count": 168,
   "id": "55bed64f",
   "metadata": {},
   "outputs": [
    {
     "name": "stdout",
     "output_type": "stream",
     "text": [
      "[[9.67511330e-01 2.81417524e-01 2.46395046e-01 7.75183545e-02\n",
      "  8.92075490e-01]\n",
      " [3.45450188e-02 4.91475169e-01 9.04559704e-04 8.89198605e-01\n",
      "  3.39397471e-01]\n",
      " [6.30818196e-01 3.30706548e-01 8.88989739e-01 7.29322390e-01\n",
      "  9.43207745e-02]\n",
      " [7.06701207e-01 8.80416664e-01 5.40537818e-01 9.75730844e-01\n",
      "  4.70003232e-01]\n",
      " [3.92036340e-02 5.13489350e-01 5.21840793e-01 5.79497239e-01\n",
      "  8.37250764e-01]]\n"
     ]
    }
   ],
   "source": [
    "import numpy as np\n",
    "\n",
    "# Create a 2D array with dimensions (5, 5) and random numbers between 0 and 1\n",
    "random_array_2d = np.random.rand(5, 5)\n",
    "\n",
    "print(random_array_2d)\n"
   ]
  },
  {
   "cell_type": "code",
   "execution_count": 203,
   "id": "97b27c90",
   "metadata": {},
   "outputs": [
    {
     "data": {
      "text/plain": [
       "array([[ 1,  2,  3,  4],\n",
       "       [ 5,  6,  7,  8],\n",
       "       [ 9, 10, 11, 12],\n",
       "       [13, 14, 15, 16],\n",
       "       [17, 18, 19, 20]])"
      ]
     },
     "execution_count": 203,
     "metadata": {},
     "output_type": "execute_result"
    }
   ],
   "source": [
    "r2=np.arange(1,21).reshape(5,-1)\n",
    "r2"
   ]
  },
  {
   "cell_type": "code",
   "execution_count": 204,
   "id": "868cb805",
   "metadata": {},
   "outputs": [],
   "source": [
    "r2[r2%2==0]=-1"
   ]
  },
  {
   "cell_type": "code",
   "execution_count": 207,
   "id": "1602f45d",
   "metadata": {},
   "outputs": [
    {
     "data": {
      "text/plain": [
       "array([[ 1, -1,  3, -1],\n",
       "       [ 5, -1,  7, -1],\n",
       "       [ 9, -1, 11, -1],\n",
       "       [13, -1, 15, -1],\n",
       "       [17, -1, 19, -1]])"
      ]
     },
     "execution_count": 207,
     "metadata": {},
     "output_type": "execute_result"
    }
   ],
   "source": [
    "r2"
   ]
  },
  {
   "cell_type": "code",
   "execution_count": 209,
   "id": "4968d739",
   "metadata": {},
   "outputs": [
    {
     "data": {
      "text/plain": [
       "array([[-1, 15]])"
      ]
     },
     "execution_count": 209,
     "metadata": {},
     "output_type": "execute_result"
    }
   ],
   "source": [
    "r2\n",
    "r2[3:4,1:3]"
   ]
  },
  {
   "cell_type": "code",
   "execution_count": 192,
   "id": "03738dea",
   "metadata": {},
   "outputs": [],
   "source": [
    "a1=np.arange(1,7).reshape(2,-1)"
   ]
  },
  {
   "cell_type": "code",
   "execution_count": 193,
   "id": "ae38aa0a",
   "metadata": {},
   "outputs": [],
   "source": [
    "a2=np.arange(6,12).reshape(2,-1)"
   ]
  },
  {
   "cell_type": "markdown",
   "id": "86214141",
   "metadata": {},
   "source": []
  },
  {
   "cell_type": "code",
   "execution_count": 194,
   "id": "d1fc1f28",
   "metadata": {},
   "outputs": [
    {
     "data": {
      "text/plain": [
       "array([[ 6,  7,  8],\n",
       "       [ 9, 10, 11]])"
      ]
     },
     "execution_count": 194,
     "metadata": {},
     "output_type": "execute_result"
    }
   ],
   "source": [
    "a2"
   ]
  },
  {
   "cell_type": "code",
   "execution_count": 195,
   "id": "d9a10b01",
   "metadata": {},
   "outputs": [
    {
     "data": {
      "text/plain": [
       "array([[1, 2, 3],\n",
       "       [4, 5, 6]])"
      ]
     },
     "execution_count": 195,
     "metadata": {},
     "output_type": "execute_result"
    }
   ],
   "source": [
    "a1"
   ]
  },
  {
   "cell_type": "code",
   "execution_count": 196,
   "id": "13e44e36",
   "metadata": {},
   "outputs": [
    {
     "data": {
      "text/plain": [
       "array([[ 1,  2,  3,  6,  7,  8],\n",
       "       [ 4,  5,  6,  9, 10, 11]])"
      ]
     },
     "execution_count": 196,
     "metadata": {},
     "output_type": "execute_result"
    }
   ],
   "source": [
    "\n",
    "np.hstack((a1,a2))"
   ]
  },
  {
   "cell_type": "code",
   "execution_count": 197,
   "id": "fc654bd0",
   "metadata": {},
   "outputs": [
    {
     "data": {
      "text/plain": [
       "array([[ 1,  2,  3],\n",
       "       [ 4,  5,  6],\n",
       "       [ 6,  7,  8],\n",
       "       [ 9, 10, 11]])"
      ]
     },
     "execution_count": 197,
     "metadata": {},
     "output_type": "execute_result"
    }
   ],
   "source": [
    "\n",
    "np.vstack((a1,a2))"
   ]
  },
  {
   "cell_type": "code",
   "execution_count": 198,
   "id": "99d824d6",
   "metadata": {},
   "outputs": [
    {
     "data": {
      "text/plain": [
       "array([[ 1,  2,  3],\n",
       "       [ 4,  5,  6],\n",
       "       [ 6,  7,  8],\n",
       "       [ 9, 10, 11]])"
      ]
     },
     "execution_count": 198,
     "metadata": {},
     "output_type": "execute_result"
    }
   ],
   "source": [
    "np.concatenate((a1,a2))"
   ]
  },
  {
   "cell_type": "code",
   "execution_count": 214,
   "id": "87893868",
   "metadata": {},
   "outputs": [],
   "source": [
    "a7=np.arange(1,10).reshape(3,3)"
   ]
  },
  {
   "cell_type": "code",
   "execution_count": null,
   "id": "7828ee78",
   "metadata": {},
   "outputs": [],
   "source": []
  },
  {
   "cell_type": "code",
   "execution_count": null,
   "id": "688b5fad",
   "metadata": {},
   "outputs": [],
   "source": []
  },
  {
   "cell_type": "code",
   "execution_count": 215,
   "id": "40057da6",
   "metadata": {},
   "outputs": [
    {
     "data": {
      "text/plain": [
       "array([[1, 2, 3],\n",
       "       [4, 5, 6],\n",
       "       [7, 8, 9]])"
      ]
     },
     "execution_count": 215,
     "metadata": {},
     "output_type": "execute_result"
    }
   ],
   "source": [
    "a7"
   ]
  },
  {
   "cell_type": "code",
   "execution_count": null,
   "id": "f626adcd",
   "metadata": {},
   "outputs": [],
   "source": []
  }
 ],
 "metadata": {
  "kernelspec": {
   "display_name": "Python 3 (ipykernel)",
   "language": "python",
   "name": "python3"
  },
  "language_info": {
   "codemirror_mode": {
    "name": "ipython",
    "version": 3
   },
   "file_extension": ".py",
   "mimetype": "text/x-python",
   "name": "python",
   "nbconvert_exporter": "python",
   "pygments_lexer": "ipython3",
   "version": "3.11.5"
  }
 },
 "nbformat": 4,
 "nbformat_minor": 5
}
